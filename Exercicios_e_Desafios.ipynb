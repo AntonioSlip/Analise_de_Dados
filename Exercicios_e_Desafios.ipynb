{
  "nbformat": 4,
  "nbformat_minor": 0,
  "metadata": {
    "colab": {
      "name": "Exercicios e Desafios.ipynb",
      "provenance": [],
      "collapsed_sections": [],
      "authorship_tag": "ABX9TyNIf27n0HQ1xixx1AhwYrgu",
      "include_colab_link": true
    },
    "kernelspec": {
      "name": "python3",
      "display_name": "Python 3"
    },
    "language_info": {
      "name": "python"
    }
  },
  "cells": [
    {
      "cell_type": "markdown",
      "metadata": {
        "id": "view-in-github",
        "colab_type": "text"
      },
      "source": [
        "<a href=\"https://colab.research.google.com/github/AntonioSlip/analise_de_dados/blob/main/Exercicios_e_Desafios.ipynb\" target=\"_parent\"><img src=\"https://colab.research.google.com/assets/colab-badge.svg\" alt=\"Open In Colab\"/></a>"
      ]
    },
    {
      "cell_type": "code",
      "metadata": {
        "colab": {
          "base_uri": "https://localhost:8080/"
        },
        "id": "xCYbopNFN6Y_",
        "outputId": "04c68ffb-1a7a-4400-9544-f631ca0650b4"
      },
      "source": [
        "#1.Faça um CÓDIGO que mostre a mensagem \"Olá ETE PORTO DIGITAL!\" na tela.\n",
        "print('Olá ETE PORTO DIGITAL!')"
      ],
      "execution_count": null,
      "outputs": [
        {
          "output_type": "stream",
          "name": "stdout",
          "text": [
            "Olá ETE PORTO DIGITAL!\n"
          ]
        }
      ]
    },
    {
      "cell_type": "code",
      "metadata": {
        "colab": {
          "base_uri": "https://localhost:8080/"
        },
        "id": "FYyj6Kp6Oe6J",
        "outputId": "ef9a6699-9b12-4663-ad69-c5065d2443b8"
      },
      "source": [
        "#2.Faça um CÓDIGO que peça um número e então mostre a mensagem O número informado foi [número].\n",
        "numero = int(input('Digite um número: '))\n",
        "print(f'O número informado foi {numero}')"
      ],
      "execution_count": null,
      "outputs": [
        {
          "output_type": "stream",
          "name": "stdout",
          "text": [
            "Digite um número: 10\n",
            "O número informado foi 10.\n"
          ]
        }
      ]
    },
    {
      "cell_type": "code",
      "metadata": {
        "colab": {
          "base_uri": "https://localhost:8080/"
        },
        "id": "tm031i4pP7jC",
        "outputId": "37a143f9-f346-43f8-d6ac-a656aa8c831a"
      },
      "source": [
        "#3.Faça um CÓDIGO que peça dois números e imprima a soma.\n",
        "numero_1 = int(input('Digite o primeiro número: '))\n",
        "numero_2 = int(input('Digite o segundo número: '))\n",
        "soma = numero_1 + numero_2\n",
        "print(f'A soma dos dois números é: {soma}')"
      ],
      "execution_count": null,
      "outputs": [
        {
          "output_type": "stream",
          "name": "stdout",
          "text": [
            "Digite o primeiro número: 20\n",
            "Digite o segundo número: 30\n",
            "A soma dos dois números é: 50\n"
          ]
        }
      ]
    },
    {
      "cell_type": "code",
      "metadata": {
        "colab": {
          "base_uri": "https://localhost:8080/"
        },
        "id": "LrAZcKVcSMSO",
        "outputId": "b91d7524-3fa5-4be8-c8a3-f43f5ac1b260"
      },
      "source": [
        "#4.Faça um CÓDIGO que peça as 4 notas bimestrais e mostre a média final.\n",
        "nota_1 = float(input('Digite a primeira nota: '))\n",
        "nota_2 = float(input('Digite a segunda nota: '))\n",
        "nota_3 = float(input('Digite a terceira nota: '))\n",
        "nota_4 = float(input('Digite a quarta nota:'))\n",
        "soma = nota_1 + nota_2 + nota_3 + nota_4\n",
        "media = soma / 4\n",
        "print(f'A média das notas é: {media}')"
      ],
      "execution_count": null,
      "outputs": [
        {
          "output_type": "stream",
          "name": "stdout",
          "text": [
            "Digite a primeira nota: 10\n",
            "Digite a segunda nota: 2\n",
            "Digite a terceira nota: 5\n",
            "Digite a quarta nota:3\n",
            "A média das notas é: 5.0\n"
          ]
        }
      ]
    },
    {
      "cell_type": "code",
      "metadata": {
        "colab": {
          "base_uri": "https://localhost:8080/"
        },
        "id": "UM7-VgWSVFaX",
        "outputId": "882a5273-c553-4805-f7a1-bb70870d6c57"
      },
      "source": [
        "#5.Faça um CÓDIGO que converta metros para centímetros.\n",
        "metros = float(input('Digite um valor em metros: '))\n",
        "centimetros = metros * 100\n",
        "print(f'O valor de {metros}m é igual a {centimetros}cm')"
      ],
      "execution_count": null,
      "outputs": [
        {
          "output_type": "stream",
          "name": "stdout",
          "text": [
            "Digite um valor em metros: 100\n",
            "O valor de 100.0m é igual a 10000.0cm\n"
          ]
        }
      ]
    },
    {
      "cell_type": "code",
      "metadata": {
        "colab": {
          "base_uri": "https://localhost:8080/"
        },
        "id": "LvJ_ENnCXBee",
        "outputId": "df110703-fe2a-4713-aba7-e7d9645eaf2e"
      },
      "source": [
        "#6.Faça um CÓDIGO que peça o raio de um círculo, calcule e mostre sua área.\n",
        "raio = float(input('Digite o valor do raio de um circulo em metros: '))\n",
        "area = 3.14 * raio**2\n",
        "print(f'A área do circulo é aproximadamente {area}m²')"
      ],
      "execution_count": null,
      "outputs": [
        {
          "output_type": "stream",
          "name": "stdout",
          "text": [
            "Digite o valor do raio de um circulo em metros: 10\n",
            "A area do circulo é aproximadamente 314.0m²\n"
          ]
        }
      ]
    },
    {
      "cell_type": "code",
      "metadata": {
        "colab": {
          "base_uri": "https://localhost:8080/"
        },
        "id": "sb_OPC-KcB_N",
        "outputId": "85918d99-54ce-440f-c015-599ed4ff77a9"
      },
      "source": [
        "#7.Faça um CÓDIGO que calcule a área de um quadrado, em seguida mostre o dobro desta área para o usuário.\n",
        "lado = float(input('Digite o lado de um quadrado em metros: '))\n",
        "area = lado**2\n",
        "area_dobro = area*2\n",
        "print(f'O dobro da área de um quadrado é igual a {area_dobro}m²')"
      ],
      "execution_count": null,
      "outputs": [
        {
          "output_type": "stream",
          "name": "stdout",
          "text": [
            "Digite o lado de um quadrado em metros: 2\n",
            "O dobro da área de um quadrado é igual a 8.0m²\n"
          ]
        }
      ]
    },
    {
      "cell_type": "code",
      "metadata": {
        "id": "4Lw4LFMKd7gt",
        "colab": {
          "base_uri": "https://localhost:8080/"
        },
        "outputId": "e7a9e9a9-6fa2-4277-def0-e832eff22bdd"
      },
      "source": [
        "#8.Faça um CÓDIGO que pergunte quanto você ganha por hora e o número de horas trabalhadas no mês. Calcule e mostre o total do seu salário no referido mês.\n",
        "valor_hora = float(input('Quanto você ganha por hora trabalhada:R$'))\n",
        "quantidade_horas = float(input('Quantas horas trabalha no mês: '))\n",
        "salario = valor_hora * quantidade_horas\n",
        "print(f'O seu salário no mês é R${salario}')"
      ],
      "execution_count": null,
      "outputs": [
        {
          "output_type": "stream",
          "name": "stdout",
          "text": [
            "Quanto você ganha por hora trabalhada:R$10\n",
            "Quantas horas trabalha no mês: 240\n",
            "O seu salário no mês é R$2400.0\n"
          ]
        }
      ]
    },
    {
      "cell_type": "code",
      "metadata": {
        "colab": {
          "base_uri": "https://localhost:8080/"
        },
        "id": "RxSMmzVvqvAJ",
        "outputId": "a299ae04-2a05-4a62-fa88-9c811065d886"
      },
      "source": [
        "#9.Faça um CÓDIGO que peça um valor e mostre na tela se o valor é positivo ou negativo.\n",
        "numero = float(input(\"Digite um número: \"))\n",
        "if numero > 0 :\n",
        "  print(f'O número {numero} é positivo!')\n",
        "elif numero < 0 :\n",
        "  print(f'O número {numero} é negativo!')\n",
        "else :\n",
        "  print(f'O número {numero} é neutro!')"
      ],
      "execution_count": null,
      "outputs": [
        {
          "output_type": "stream",
          "name": "stdout",
          "text": [
            "Digite um número: 1\n",
            "O número 1.0 é positivo!\n"
          ]
        }
      ]
    },
    {
      "cell_type": "code",
      "metadata": {
        "colab": {
          "base_uri": "https://localhost:8080/"
        },
        "id": "wl7deb81sUhV",
        "outputId": "a8237d8e-3c51-46d2-9325-2e416b577594"
      },
      "source": [
        "#10.Faça um CÓDIGO que verifique se uma letra digitada é \"F\" ou \"M\". Conforme a letra escrever: F - Feminino, M - Masculino, Sexo Inválido.\n",
        "sexo = input('Qual seu sexo(F ou M)? ')\n",
        "if sexo == 'F' :\n",
        "  print(f'Sexo Feminino')\n",
        "elif sexo == 'M' :\n",
        "  print(f'Sexo Masculino')\n",
        "else :\n",
        "  print(f'Sexo Inválido')"
      ],
      "execution_count": null,
      "outputs": [
        {
          "output_type": "stream",
          "name": "stdout",
          "text": [
            "Qual seu sexo(F ou M)? m\n",
            "Sexo Inválido\n"
          ]
        }
      ]
    }
  ]
}